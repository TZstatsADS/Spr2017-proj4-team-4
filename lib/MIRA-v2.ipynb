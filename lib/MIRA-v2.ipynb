{
 "cells": [
  {
   "cell_type": "code",
   "execution_count": 4,
   "metadata": {
    "collapsed": false
   },
   "outputs": [],
   "source": [
    "import numpy as np\n",
    "import pylab as pl\n",
    "from scipy import optimize\n",
    "from numpy import linalg as LA\n",
    "\n",
    "def mira(lamb,tao,ts,ts1):\n",
    "    n_ft=len(lamb)\n",
    "\n",
    "    accumulator = list()\n",
    "    def f(x):\n",
    "    # Store the list of function calls\n",
    "        accumulator.append(x)\n",
    "        return LA.norm([a-b for a,b in zip(x,lamb)])\n",
    "\n",
    "    def constraint1(x):\n",
    "        return np.atleast_1d(-np.inner(x,ts)+np.inner(x,ts1)+1)\n",
    "    def constraint2(x):\n",
    "        return np.atleast_1d(-tao+np.inner(x,ts))\n",
    "\n",
    "    opt=optimize.fmin_slsqp(f, np.array([0]*n_ft),\n",
    "                       ieqcons=[constraint1,constraint2, ])\n",
    "    return(opt)"
   ]
  },
  {
   "cell_type": "code",
   "execution_count": 5,
   "metadata": {
    "collapsed": false
   },
   "outputs": [
    {
     "name": "stdout",
     "output_type": "stream",
     "text": [
      "Optimization terminated successfully.    (Exit mode 0)\n",
      "            Current function value: 3.77964473544\n",
      "            Iterations: 6\n",
      "            Function evaluations: 36\n",
      "            Gradient evaluations: 6\n"
     ]
    }
   ],
   "source": [
    "# Here, tao is a changable parameter\n",
    "tao=0.5\n",
    "# ts means total score without using lambda for T_hat\n",
    "ts=[2,3,6,7]\n",
    "# ts1 means total score without using lambda for T_star\n",
    "ts1=[3,4,5,2]\n",
    "\n",
    "lamb1=mira(lamb=[1,3,0,5],tao=tao,ts=ts,ts1=ts1)"
   ]
  },
  {
   "cell_type": "code",
   "execution_count": 6,
   "metadata": {
    "collapsed": false
   },
   "outputs": [
    {
     "data": {
      "text/plain": [
       "array([ 1.71436593,  3.71445761, -0.71432013,  1.42862873])"
      ]
     },
     "execution_count": 6,
     "metadata": {},
     "output_type": "execute_result"
    }
   ],
   "source": [
    "lamb1"
   ]
  },
  {
   "cell_type": "code",
   "execution_count": null,
   "metadata": {
    "collapsed": true
   },
   "outputs": [],
   "source": []
  }
 ],
 "metadata": {
  "kernelspec": {
   "display_name": "Python [conda root]",
   "language": "python",
   "name": "conda-root-py"
  },
  "language_info": {
   "codemirror_mode": {
    "name": "ipython",
    "version": 3
   },
   "file_extension": ".py",
   "mimetype": "text/x-python",
   "name": "python",
   "nbconvert_exporter": "python",
   "pygments_lexer": "ipython3",
   "version": "3.5.2"
  }
 },
 "nbformat": 4,
 "nbformat_minor": 1
}
