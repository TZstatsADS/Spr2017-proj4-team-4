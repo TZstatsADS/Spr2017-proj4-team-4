{
 "cells": [
  {
   "cell_type": "code",
   "execution_count": null,
   "metadata": {
    "collapsed": true
   },
   "outputs": [],
   "source": [
    "def mira(la,tao,ts,ts1,par=5000):\n",
    "    n_ft=len(lamb)\n",
    "\n",
    "    accumulator = list()\n",
    "    def f(x):\n",
    "    # Store the list of function calls\n",
    "        accumulator.append(x)\n",
    "        return LA.norm([a-b for a,b in zip(x,lamb)])\n",
    "\n",
    "    def constraint1(x):\n",
    "        return np.atleast_1d(np.inner(x,ts)-np.inner(x,ts1)-par)\n",
    "    def constraint2(x):\n",
    "        return np.atleast_1d(-tao+np.inner(x,ts))\n",
    "\n",
    "    opt=optimize.fmin_slsqp(f, np.array([0]*n_ft),\n",
    "                       ieqcons=[constraint1,constraint2, ])\n",
    "    return(opt)"
   ]
  }
 ],
 "metadata": {
  "anaconda-cloud": {},
  "kernelspec": {
   "display_name": "Python [conda root]",
   "language": "python",
   "name": "conda-root-py"
  },
  "language_info": {
   "codemirror_mode": {
    "name": "ipython",
    "version": 3
   },
   "file_extension": ".py",
   "mimetype": "text/x-python",
   "name": "python",
   "nbconvert_exporter": "python",
   "pygments_lexer": "ipython3",
   "version": "3.5.2"
  }
 },
 "nbformat": 4,
 "nbformat_minor": 1
}
