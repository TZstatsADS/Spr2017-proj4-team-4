{
 "cells": [
  {
   "cell_type": "code",
   "execution_count": 6,
   "metadata": {
    "collapsed": true
   },
   "outputs": [],
   "source": [
    "import re\n",
    "import os\n",
    "import pandas as pd\n",
    "import numpy as np\n",
    "\n",
    "os.getcwd()\n",
    "os.chdir('/Users/Bowen/Documents/2017Spring/ADS/Spr2017-proj4-team-4-master/data/nameset/')\n",
    "with open('AKumar.txt') as f:\n",
    "    content = f.readlines()\n",
    "\n",
    "content=pd.DataFrame([x.lower().rstrip('\\n').split('<>') for x in content])\n",
    "content.columns=['author','title','publish']\n",
    "\n",
    "author=content['author']\n",
    "author_splited=[x.split(';') for x in author]\n",
    "\n",
    "pattern='[0-9]+_[0-9]+'\n",
    "# generate index\n",
    "index=[re.search(pattern,x).group(0) for x in author]\n",
    "index_splited=pd.DataFrame([x.split('_') for x in index])\n",
    "# generate author\n",
    "index_len=[len(x) for x in index]\n",
    "author=pd.DataFrame([x[m:len(x)] for x,m in zip(author, index_len)])\n",
    "\n",
    "#combine them together\n",
    "content=pd.concat([index_splited,author,content[['title','publish']]],axis=1)\n",
    "content.columns=['author','index','co-author','title','publish']"
   ]
  },
  {
   "cell_type": "code",
   "execution_count": 3,
   "metadata": {
    "collapsed": false
   },
   "outputs": [],
   "source": [
    "os.getcwd()\n",
    "os.chdir('/Users/Bowen/Documents/2017Spring/ADS/Spr2017-proj4-team-4-master/data/')\n",
    "\n",
    "dtm=pd.read_csv('pca.csv')\n",
    "dtm.shape\n",
    "dtm=dtm.iloc[:,1:]\n",
    "c=dtm.shape[1]\n",
    "r=dtm.shape[0]\n",
    "\n",
    "\n",
    "lamb=[1/c]*c\n",
    "\n",
    "def cor(x,y):\n",
    "    x_y=pd.concat([x,y],axis=1)\n",
    "    correlation=x_y.apply(np.var,1)\n",
    "    return (correlation)    \n",
    "\n",
    "def score(var,lamb):\n",
    "    return (sum(var*lamb))\n",
    "\n",
    "cor_list=[]\n",
    "location_list=[]\n",
    "\n",
    "\n",
    "\n",
    "''' loop first time  '''\n",
    "for i in range(r):\n",
    "    for j in range(i+1,r):\n",
    "        var=cor(dtm.iloc[i,:],dtm.iloc[j,:])\n",
    "        inter=score(var,lamb)\n",
    "        cor_list.append(inter)\n",
    "        location_list.append([i,j])\n",
    "\n",
    "cor_list=cor_list/np.mean(cor_list)\n",
    "location=np.array(np.where(cor_list==min(cor_list)))\n",
    "location_list=np.array(location_list)\n",
    "location_min=location_list[location]\n",
    "''' group part'''\n",
    "group=[x for x in range(r)]\n",
    "for i in range(location.size):\n",
    "    num1=location_min[0][i][0]\n",
    "    num2=location_min[0][i][1]\n",
    "    group[num2]=group[num1]\n",
    "\n"
   ]
  },
  {
   "cell_type": "code",
   "execution_count": 29,
   "metadata": {
    "collapsed": false
   },
   "outputs": [],
   "source": [
    "### Accuracy Function\n",
    "label=[int(x) for x in content['author']]\n",
    "\n",
    "A=0\n",
    "B=0\n",
    "C=0\n",
    "D=0\n",
    "for i in range(len(group)):\n",
    "    for j in range(len(group)):\n",
    "        if group[i]==group[j] and label[i]==label[j]:\n",
    "            A+=1\n",
    "        elif group[i]==group[j] and label[i]!=label[j]:\n",
    "            B+=1\n",
    "        elif group[i]!=group[j] and label[i]==label[j]:\n",
    "            C+=1\n",
    "        else:\n",
    "            D+=1\n",
    "\n",
    "Precision=A/(A+B)\n",
    "Recall=A/(A+C)\n",
    "F1=2*Precision*Recall/(Precision+Recall)\n",
    "Accuracy=(A+D)/(A+B+C+D)"
   ]
  },
  {
   "cell_type": "code",
   "execution_count": 31,
   "metadata": {
    "collapsed": false,
    "scrolled": true
   },
   "outputs": [
    {
     "name": "stdout",
     "output_type": "stream",
     "text": [
      "Precision: 1.0\n",
      "Recall: 0.08075495049504951\n",
      "F1: 0.14944174062410534\n",
      "Accuracy: 0.8003896801934963\n"
     ]
    }
   ],
   "source": [
    "print(' '.join(['Precision:',str(Precision)]))\n",
    "print(' '.join(['Recall:',str(Recall)]))\n",
    "print(' '.join(['F1:',str(F1)]))\n",
    "print(' '.join(['Accuracy:',str(Accuracy)]))"
   ]
  }
 ],
 "metadata": {
  "kernelspec": {
   "display_name": "Python [conda root]",
   "language": "python",
   "name": "conda-root-py"
  },
  "language_info": {
   "codemirror_mode": {
    "name": "ipython",
    "version": 3
   },
   "file_extension": ".py",
   "mimetype": "text/x-python",
   "name": "python",
   "nbconvert_exporter": "python",
   "pygments_lexer": "ipython3",
   "version": "3.5.2"
  }
 },
 "nbformat": 4,
 "nbformat_minor": 1
}
